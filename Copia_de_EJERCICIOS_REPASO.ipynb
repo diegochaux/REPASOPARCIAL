{
  "nbformat": 4,
  "nbformat_minor": 0,
  "metadata": {
    "colab": {
      "provenance": [],
      "authorship_tag": "ABX9TyPURC8qIG0mb4a1znBX4iym",
      "include_colab_link": true
    },
    "kernelspec": {
      "name": "python3",
      "display_name": "Python 3"
    },
    "language_info": {
      "name": "python"
    }
  },
  "cells": [
    {
      "cell_type": "markdown",
      "metadata": {
        "id": "view-in-github",
        "colab_type": "text"
      },
      "source": [
        "<a href=\"https://colab.research.google.com/github/diegochaux/REPASOPARCIAL/blob/main/Copia_de_EJERCICIOS_REPASO.ipynb\" target=\"_parent\"><img src=\"https://colab.research.google.com/assets/colab-badge.svg\" alt=\"Open In Colab\"/></a>"
      ]
    },
    {
      "cell_type": "markdown",
      "source": [
        "CUADERNO 1"
      ],
      "metadata": {
        "id": "wknsu7PEIHGW"
      }
    },
    {
      "cell_type": "code",
      "execution_count": null,
      "metadata": {
        "colab": {
          "base_uri": "https://localhost:8080/"
        },
        "id": "fySTDIifGFA9",
        "outputId": "bc4a696a-231a-4f98-9ba9-fd1d575f15e1"
      },
      "outputs": [
        {
          "output_type": "execute_result",
          "data": {
            "text/plain": [
              "4.0"
            ]
          },
          "metadata": {},
          "execution_count": 1
        }
      ],
      "source": [
        "#1) Write a program that displays the result of the following arithmetic operation on the screen:  x(t)=((3+2)/2.5)2\n",
        "a= ((3+2)/2.5)**2\n",
        "a"
      ]
    },
    {
      "cell_type": "code",
      "source": [
        "#2) Write a program that asks the user for the number of hours worked and the hourly rate.\n",
        "#Then, it should display on the screen the corresponding payment\n",
        "a= float(input(\"Digite las horas trabajadas: \"))\n",
        "b= float(input(\"Digite la tarifa de hora\"))\n",
        "x=a*b\n",
        "print(\"El pago correspondiente es:\", x)"
      ],
      "metadata": {
        "colab": {
          "base_uri": "https://localhost:8080/"
        },
        "id": "A8InugsjIpDJ",
        "outputId": "b9f5a6b8-cdbe-4db2-ae2f-c4ca7b4323cf"
      },
      "execution_count": null,
      "outputs": [
        {
          "output_type": "stream",
          "name": "stdout",
          "text": [
            "Digite las horas trabajadas: 15\n",
            "Digite la tarifa de hora5500\n",
            "El pago correspondiente es: 82500.0\n"
          ]
        }
      ]
    },
    {
      "cell_type": "code",
      "source": [
        "#3) Write a program that asks the user for their weight (in kg) and height (in meters), calculates the body mass index (BMI),\n",
        "#stores it in a variable, and displays the message \"Your body mass index is imc\" on the screen, where imc is the calculated BMI\n",
        "#rounded to two decimal places.\n",
        "a= float(input(\"Digite su peso en Kg: \"))\n",
        "b= float(input(\"Digite su altura en m: \"))\n",
        "IMC= round((a/(b**2)),2)\n",
        "print(\"Su IMC es: \", IMC)"
      ],
      "metadata": {
        "colab": {
          "base_uri": "https://localhost:8080/"
        },
        "id": "4kO1J4asJpn_",
        "outputId": "8fd1c145-11f3-46b7-dc63-5f420cca7ed8"
      },
      "execution_count": null,
      "outputs": [
        {
          "output_type": "stream",
          "name": "stdout",
          "text": [
            "Digite su peso en Kg: 63.5\n",
            "Digite su altura en m: 1.72\n",
            "Su IMC es:  21.46\n"
          ]
        }
      ]
    },
    {
      "cell_type": "markdown",
      "source": [
        "CUADERNO 2"
      ],
      "metadata": {
        "id": "MiLGyl6RGH7c"
      }
    },
    {
      "cell_type": "code",
      "source": [
        "#1) In order to pay a certain tax, you must be over 16 years old and have a monthly income equal to or greater than €1000.\n",
        "#Write a program that asks the user for their age and monthly income, and displays whether the user has to pay the tax or not\n",
        "a= int(input(\"Digite su edad: \"))\n",
        "b= float(input(\"Digite sus ingresos mensuales: \"))\n",
        "if (a>16) and (b>=1000):\n",
        "  print(\"Usted debe pagar impuesto\")\n",
        "else:\n",
        "  print(\"Usted no debe pagar impuesto\")"
      ],
      "metadata": {
        "colab": {
          "base_uri": "https://localhost:8080/"
        },
        "id": "WaIflwZ2GM-z",
        "outputId": "0b65305e-3f10-45ae-be96-c22e459ecdeb"
      },
      "execution_count": null,
      "outputs": [
        {
          "output_type": "stream",
          "name": "stdout",
          "text": [
            "Digite su edad: 17\n",
            "Digite sus ingresos mensuales: 1000\n",
            "Usted debe pagar impuesto\n"
          ]
        }
      ]
    },
    {
      "cell_type": "code",
      "source": [
        "#2) The Bella Napoli pizzeria offers vegetarian and non-vegetarian pizzas to its customers. The ingredients for each type of pizza are as follows:\n",
        "#Vegetarian ingredients: Bell peppers and tofu.\n",
        "#Non-vegetarian ingredients: Pepperoni, Ham, and Salmon.\n",
        "#Write a program that asks the user if they want a vegetarian pizza or not, and based on their response, displays a menu with the available ingredients\n",
        "#for them to choose from. Only one additional ingredient can be chosen besides the mozzarella and tomato, which are included in all pizzas.\n",
        "#Finally, the program should display whether the chosen pizza is vegetarian or not, along with all the ingredients it contains.\n",
        "a= int(input(\"Escoja que pizza desea \\n1)Pizza vegetariana\\n2)Pizza no vegetariana\\n\"))\n",
        "ing=['Mozarella','Tomate']\n",
        "inv=['pimientos','tofu']\n",
        "innv=['Pepperoni','Jamón','Salmón']\n",
        "if a==1:\n",
        "  print(\"Usted eligió la pizza vegetariana\")\n",
        "  b=int(input(f\"Escoja un ingrediente adicional\\n1){inv[0]}\\n2){inv[1]}\\n\" ))\n",
        "  print(f\"Su pizza es vegetariana con\\n{ing[0]}\\n{ing[1]}\\n{inv[b-1]} \")\n",
        "else:\n",
        "  print(\"Usted eligió la no pizza vegetariana\")\n",
        "  b=int(input(f\"Escoja un ingrediente adicional\\n1){innv[0]}\\n2){innv[1]}\\n3){innv[2]}\\n\" ))\n",
        "  print(f\"Su pizza es no vegetariana con\\n{ing[0]}\\n{ing[1]}\\n{innv[b-1]} \")\n",
        "\n"
      ],
      "metadata": {
        "colab": {
          "base_uri": "https://localhost:8080/"
        },
        "id": "UNRGyklSNuMq",
        "outputId": "57e7c551-7b7b-4df3-a869-ee7dee88580d"
      },
      "execution_count": null,
      "outputs": [
        {
          "output_type": "stream",
          "name": "stdout",
          "text": [
            "Escoja que pizza desea \n",
            "1)Pizza vegetariana\n",
            "2)Pizza no vegetariana\n",
            "2\n",
            "Usted eligió la no pizza vegetariana\n",
            "Escoja un ingrediente adicional\n",
            "1)Pepperoni\n",
            "2)Jamón\n",
            "3)Salmón\n",
            "3\n",
            "Su pizza es no vegetariana con\n",
            "Mozarella\n",
            "Tomate\n",
            "Salmón \n"
          ]
        }
      ]
    },
    {
      "cell_type": "markdown",
      "source": [
        "CUADERNO 3"
      ],
      "metadata": {
        "id": "iR-Tj1ktYJEn"
      }
    },
    {
      "cell_type": "code",
      "source": [
        "#Write a code that ask the user to enter an integer number every time, and the process will be repeated with more numbers until the user enters a zero.\n",
        "#At the end (when the zero is entered), show the amount of numbers entered.\n",
        "x=1\n",
        "contador=0\n",
        "while x!=0 :\n",
        "  contador +=1\n",
        "  x=int(input(\"Digite un numero entero\"))\n",
        "contador"
      ],
      "metadata": {
        "colab": {
          "base_uri": "https://localhost:8080/"
        },
        "id": "Qe_4AT0JYNHA",
        "outputId": "63b095a5-40df-4cc4-b097-9d95c640947c"
      },
      "execution_count": 5,
      "outputs": [
        {
          "name": "stdout",
          "output_type": "stream",
          "text": [
            "Digite un numero entero5\n",
            "Digite un numero entero4\n",
            "Digite un numero entero6\n",
            "Digite un numero entero0\n"
          ]
        },
        {
          "output_type": "execute_result",
          "data": {
            "text/plain": [
              "4"
            ]
          },
          "metadata": {},
          "execution_count": 5
        }
      ]
    },
    {
      "cell_type": "code",
      "source": [
        "#Use the input() function to ask for the user to enter one integer number. Only if the number is even, it will be accumulated.\n",
        "#The program must come to an end if the sum of the numbers surpasses 50 or if the user enters a maximum of 10 numbers.\n",
        "contador=0\n",
        "acumulador=0\n",
        "while (contador <=9) and (acumulador < 51):\n",
        "  x=int(input(\"Digite un numero entero: \"))\n",
        "  if x % 2 == 0:\n",
        "    acumulador += x\n",
        "    contador +=1\n",
        "  else:\n",
        "    contador += 1\n",
        "\n",
        "print(contador,acumulador)"
      ],
      "metadata": {
        "id": "3EgyadOlb2sc",
        "colab": {
          "base_uri": "https://localhost:8080/"
        },
        "outputId": "f9a08a72-3c09-4dca-8767-59259bf5b543"
      },
      "execution_count": 6,
      "outputs": [
        {
          "output_type": "stream",
          "name": "stdout",
          "text": [
            "Digite un numero entero: 5\n",
            "Digite un numero entero: 4\n",
            "Digite un numero entero: 15\n",
            "Digite un numero entero: 25\n",
            "Digite un numero entero: 6\n",
            "Digite un numero entero: 5\n",
            "Digite un numero entero: 41\n",
            "Digite un numero entero: 12\n",
            "Digite un numero entero: 12\n",
            "Digite un numero entero: 12\n",
            "10 46\n"
          ]
        }
      ]
    },
    {
      "cell_type": "code",
      "source": [],
      "metadata": {
        "id": "sJeOTPp6yNt0"
      },
      "execution_count": null,
      "outputs": []
    }
  ]
}